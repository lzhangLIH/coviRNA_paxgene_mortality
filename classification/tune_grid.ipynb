{
 "cells": [
  {
   "cell_type": "code",
   "execution_count": 1,
   "id": "1620f8a3-f709-49a0-9167-7edabb4a16ac",
   "metadata": {
    "tags": []
   },
   "outputs": [],
   "source": [
    "import numpy as np\n",
    "random_state = 123\n",
    "n_jobs = 20"
   ]
  },
  {
   "cell_type": "code",
   "execution_count": 25,
   "id": "766d75e2-136d-4f27-a8da-210709ce86cd",
   "metadata": {
    "tags": []
   },
   "outputs": [],
   "source": [
    "lst_clf = {}\n",
    "lst_grid = {}"
   ]
  },
  {
   "cell_type": "code",
   "execution_count": 3,
   "id": "3e8c1775-1621-4c45-b7f5-9a7576f1e50c",
   "metadata": {
    "tags": []
   },
   "outputs": [
    {
     "data": {
      "text/plain": [
       "['               total        used        free      shared  buff/cache   available',\n",
       " 'Mem:          515611       29385      334694           5      151531      483067',\n",
       " 'Swap:            975         102         873']"
      ]
     },
     "execution_count": 3,
     "metadata": {},
     "output_type": "execute_result"
    }
   ],
   "source": [
    "%system free -m"
   ]
  },
  {
   "cell_type": "markdown",
   "id": "e125fa0f-9f42-442b-8326-cc03fbb494cb",
   "metadata": {},
   "source": [
    "# RF"
   ]
  },
  {
   "cell_type": "code",
   "execution_count": 5,
   "id": "289fbe72-cfd4-41f8-937f-9062b38d31ae",
   "metadata": {
    "tags": []
   },
   "outputs": [],
   "source": [
    "from sklearn.ensemble import RandomForestClassifier\n",
    "clf = RandomForestClassifier(n_jobs=n_jobs, random_state=random_state, class_weight='balanced')\n",
    "# Number of trees in random forest\n",
    "n_estimators = [int(x) for x in np.linspace(start = 50, stop = 150, num = 3)]\n",
    "# The function to measure the quality of a split\n",
    "criterion = ['gini', 'entropy']\n",
    "# Number of features to consider at every split\n",
    "max_features = ['sqrt','log2',0.2,0.4]\n",
    "# Minimum number of samples required at each leaf node\n",
    "min_samples_leaf = [1, 2, 4]\n",
    "\n",
    "# Create the random grid\n",
    "random_grid = {'clf__n_estimators': n_estimators,\n",
    "               'clf__max_features': max_features,\n",
    "               'clf__criterion': criterion,\n",
    "               'clf__min_samples_leaf': min_samples_leaf}\n",
    "lst_clf['rf'] = clf\n",
    "lst_grid['rf'] = random_grid"
   ]
  },
  {
   "cell_type": "markdown",
   "id": "5db99ea3-29dc-4b49-9966-2680df4bfbc4",
   "metadata": {},
   "source": [
    "# kNN"
   ]
  },
  {
   "cell_type": "code",
   "execution_count": 6,
   "id": "4b40e1be-b794-4576-9e21-4cabe8442ff9",
   "metadata": {
    "tags": []
   },
   "outputs": [],
   "source": [
    "from sklearn.neighbors import KNeighborsClassifier\n",
    "clf = KNeighborsClassifier(n_jobs=n_jobs)\n",
    "# Number of neighbors to use\n",
    "n_neighbors = range(1, 21, 2)\n",
    "# weight function used in prediction\n",
    "weights = ['uniform', 'distance']\n",
    "# the distance metric to use for the tree\n",
    "metric = ['euclidean','manhattan','minkowski']\n",
    "\n",
    "# Create the random grid\n",
    "random_grid = {'clf__n_neighbors': n_neighbors,\n",
    "                'clf__weights': weights,\n",
    "                'clf__metric': metric}\n",
    "\n",
    "lst_clf['knn'] = clf\n",
    "lst_grid['knn'] = random_grid"
   ]
  },
  {
   "cell_type": "markdown",
   "id": "b33d7954-76b7-46fc-a353-f0bcecaa3574",
   "metadata": {},
   "source": [
    "# logit L2"
   ]
  },
  {
   "cell_type": "code",
   "execution_count": 7,
   "id": "b0af1cf1-bbaf-4187-bb2d-5279fb85379d",
   "metadata": {
    "tags": []
   },
   "outputs": [],
   "source": [
    "from sklearn.linear_model import LogisticRegression\n",
    "clf = LogisticRegression(penalty='l2', \n",
    "                         random_state=random_state, \n",
    "                         # n_jobs=n_jobs,\n",
    "                         max_iter=3000,\n",
    "                         class_weight='balanced')\n",
    "# \n",
    "C = [10, 1, 0.1, 0.01, 0.001, 0.0001]\n",
    "# # penalty\n",
    "# l1_ratio = [0,0.05,0.1,0.15,0.2,0.5,1]\n",
    "# solver\n",
    "solver = ['lbfgs', 'liblinear', 'newton-cg', 'newton-cholesky', 'sag', 'saga']\n",
    "# # max_iter\n",
    "# max_iter=[100, 500, 1000, 2000, 3000, 4000, 5000]\n",
    "# Create the random grid\n",
    "random_grid = {'clf__C': C,\n",
    "                'clf__solver': solver}\n",
    "\n",
    "lst_clf['logit_l2'] = clf\n",
    "lst_grid['logit_l2'] = random_grid"
   ]
  },
  {
   "cell_type": "markdown",
   "id": "a00ed8ef-aac1-457a-9b38-cd781cc3a944",
   "metadata": {},
   "source": [
    "# logit L1"
   ]
  },
  {
   "cell_type": "code",
   "execution_count": 8,
   "id": "1312daeb-fb04-43b1-bfd3-76ae413ca2ad",
   "metadata": {
    "tags": []
   },
   "outputs": [],
   "source": [
    "from sklearn.linear_model import LogisticRegression\n",
    "clf = LogisticRegression(penalty='l1', \n",
    "                         random_state=random_state, \n",
    "                         # n_jobs=n_jobs,\n",
    "                         max_iter=3000,\n",
    "                         class_weight='balanced')\n",
    "# \n",
    "C = [10, 1, 0.1, 0.01, 0.001, 0.0001]\n",
    "# # penalty\n",
    "# l1_ratio = [0,0.05,0.1,0.15,0.2,0.5,1]\n",
    "# solver\n",
    "solver = ['liblinear', 'saga']\n",
    "# # max_iter\n",
    "# max_iter=[100, 500, 1000, 2000, 3000, 4000, 5000]\n",
    "# Create the random grid\n",
    "random_grid = {'clf__C': C,\n",
    "                'clf__solver': solver}\n",
    "\n",
    "lst_clf['logit_l1'] = clf\n",
    "lst_grid['logit_l1'] = random_grid"
   ]
  },
  {
   "cell_type": "markdown",
   "id": "9b840c35-1a37-4f3a-9604-242f3d88cca5",
   "metadata": {},
   "source": [
    "# elastic net"
   ]
  },
  {
   "cell_type": "code",
   "execution_count": 26,
   "id": "cb45faa3-92e5-47d2-9e96-61b5f2e75e19",
   "metadata": {
    "tags": []
   },
   "outputs": [],
   "source": [
    "from sklearn.linear_model import LogisticRegression\n",
    "clf = LogisticRegression(penalty='elasticnet', \n",
    "                         solver='saga',\n",
    "                         random_state=random_state, \n",
    "                         n_jobs=n_jobs,\n",
    "                         max_iter=3000,\n",
    "                         class_weight='balanced')\n",
    "# C\n",
    "C = [10, 1, 0.1, 0.01, 0.001, 0.0001]\n",
    "# l1 ratio\n",
    "l1_ratio = [0,0.05,0.1,0.15,0.2,0.5,0.75,1]\n",
    "# # max_iter\n",
    "# max_iter=[100, 500, 1000, 2000, 3000, 4000, 5000]\n",
    "# Create the random grid\n",
    "random_grid = {'clf__C': C,\n",
    "                'clf__l1_ratio': l1_ratio}\n",
    "\n",
    "lst_clf['elasticnet'] = clf\n",
    "lst_grid['elasticnet'] = random_grid"
   ]
  },
  {
   "cell_type": "markdown",
   "id": "4f3e0b42-2d7e-4847-9a32-2e8a5285c0e0",
   "metadata": {},
   "source": [
    "# MLP"
   ]
  },
  {
   "cell_type": "code",
   "execution_count": 11,
   "id": "139333d8-08a1-43ca-b1cc-d0a04dca6384",
   "metadata": {
    "tags": []
   },
   "outputs": [],
   "source": [
    "from sklearn.neural_network import MLPClassifier\n",
    "clf = MLPClassifier(random_state=random_state, max_iter=5000)\n",
    "\n",
    "hidden_layer_sizes = [(10,),(20,)]\n",
    "activation = ['tanh', 'relu']\n",
    "solver = ['sgd', 'adam']\n",
    "alpha = [0.00001, 0.0001, 0.001, 0.01]\n",
    "learning_rate = ['constant','adaptive']\n",
    "\n",
    "# Create the random grid\n",
    "random_grid = {\n",
    "    'clf__hidden_layer_sizes': hidden_layer_sizes,\n",
    "    'clf__activation': activation,\n",
    "    'clf__solver': solver,\n",
    "    'clf__alpha': alpha,\n",
    "    'clf__learning_rate': learning_rate,\n",
    "}\n",
    "\n",
    "\n",
    "lst_clf['mlp'] = clf\n",
    "lst_grid['mlp'] = random_grid"
   ]
  },
  {
   "cell_type": "markdown",
   "id": "8f811721-a29a-41c1-8a71-cc0bb89c70fa",
   "metadata": {},
   "source": [
    "# SVM"
   ]
  },
  {
   "cell_type": "code",
   "execution_count": 12,
   "id": "9b4c8fc6-8940-46c8-900c-5ba6af55c2cc",
   "metadata": {
    "tags": []
   },
   "outputs": [],
   "source": [
    "from sklearn.svm import SVC\n",
    "clf = SVC(random_state=random_state, class_weight='balanced', probability=True)\n",
    "# Regularization parameter C\n",
    "C = [10, 1, 0.1, 0.01, 0.001]\n",
    "# kernel type to be used\n",
    "kernel = ['linear', 'rbf','sigmoid']\n",
    "# poly takes super long time for larger samples\n",
    "# Kernel coefficient for ‘rbf’, ‘poly’ and ‘sigmoid’.\n",
    "gamma = ['scale','auto',0.1, 1, 10]\n",
    "\n",
    "# Create the random grid\n",
    "random_grid = {'clf__C': C,\n",
    "                'clf__kernel': kernel,\n",
    "                'clf__gamma': gamma\n",
    "               }\n",
    "\n",
    "lst_clf['svm'] = clf\n",
    "lst_grid['svm'] = random_grid"
   ]
  },
  {
   "cell_type": "code",
   "execution_count": 13,
   "id": "d09303fb-d510-4f51-8d13-1708c6492966",
   "metadata": {
    "tags": []
   },
   "outputs": [
    {
     "name": "stdout",
     "output_type": "stream",
     "text": [
      "7\n"
     ]
    }
   ],
   "source": [
    "print(len(lst_clf))"
   ]
  },
  {
   "cell_type": "code",
   "execution_count": null,
   "id": "71e53148-ddc2-4bf1-91d2-5455d6cad079",
   "metadata": {},
   "outputs": [],
   "source": []
  }
 ],
 "metadata": {
  "kernelspec": {
   "display_name": "Python 3 (ipykernel)",
   "language": "python",
   "name": "python3"
  },
  "language_info": {
   "codemirror_mode": {
    "name": "ipython",
    "version": 3
   },
   "file_extension": ".py",
   "mimetype": "text/x-python",
   "name": "python",
   "nbconvert_exporter": "python",
   "pygments_lexer": "ipython3",
   "version": "3.11.2"
  }
 },
 "nbformat": 4,
 "nbformat_minor": 5
}
