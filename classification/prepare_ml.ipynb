{
 "cells": [
  {
   "cell_type": "code",
   "execution_count": 1,
   "id": "8eec4a48-2c67-4c76-9ab3-209b4f6b8c51",
   "metadata": {
    "tags": []
   },
   "outputs": [],
   "source": [
    "import pandas as pd\n",
    "import numpy as np\n",
    "import os"
   ]
  },
  {
   "cell_type": "markdown",
   "id": "1010102d-5275-40b4-9f96-01e4104d7f98",
   "metadata": {
    "tags": []
   },
   "source": [
    "# clinical data"
   ]
  },
  {
   "cell_type": "code",
   "execution_count": 2,
   "id": "91134852-4695-4c00-8aaa-9c1ae31ca34a",
   "metadata": {},
   "outputs": [
    {
     "name": "stdout",
     "output_type": "stream",
     "text": [
      "dimension of clinical data: (1286, 13)\n",
      "died\n",
      "0    1165\n",
      "1     121\n",
      "Name: count, dtype: int64\n",
      "train\n",
      "1    1093\n",
      "0     193\n",
      "Name: count, dtype: int64\n"
     ]
    }
   ],
   "source": [
    "outcome = 'died'\n",
    "path_in = 'data/clinic_outcomes_imp_splitDied.xlsx'\n",
    "clinic = pd.read_excel(path_in)\n",
    "print(f\"dimension of clinical data: {clinic.shape}\")\n",
    "print(clinic[outcome].value_counts())\n",
    "print(clinic['train'].value_counts())"
   ]
  },
  {
   "cell_type": "markdown",
   "id": "9c16f871-4e48-410a-b709-2762995d97ca",
   "metadata": {
    "tags": []
   },
   "source": [
    "# seq data"
   ]
  },
  {
   "cell_type": "markdown",
   "id": "f7639058-1cb3-4566-9858-4cc5d31f3677",
   "metadata": {},
   "source": [
    "## one dataset"
   ]
  },
  {
   "cell_type": "code",
   "execution_count": 5,
   "id": "e86b2df8-48f3-44f9-bcbf-689bfacafdbc",
   "metadata": {
    "tags": []
   },
   "outputs": [
    {
     "name": "stdout",
     "output_type": "stream",
     "text": [
      "dimension of voom transformed dataset: (2744, 805)\n",
      "total lncRNAs: 2744\n"
     ]
    }
   ],
   "source": [
    "# total\n",
    "path_in = 'voom_quebec_reads5sample3.csv'\n",
    "voom = pd.read_csv(path_in)\n",
    "print(f\"dimension of voom transformed dataset: {voom.shape}\")\n",
    "lnc_all = voom['seqID'].values\n",
    "print(f\"total lncRNAs: {lnc_all.shape[0]}\")\n",
    "voom.index = voom['seqID'].values\n",
    "voom = voom.drop(columns='seqID')\n"
   ]
  },
  {
   "cell_type": "markdown",
   "id": "79be7869-ab1c-4018-8267-e52d2ab7a8f9",
   "metadata": {},
   "source": [
    "## merge whole dataset"
   ]
  },
  {
   "cell_type": "code",
   "execution_count": 4,
   "id": "82a8f1ec-78b3-4e2d-b7c8-411f232111d4",
   "metadata": {
    "tags": []
   },
   "outputs": [
    {
     "name": "stdout",
     "output_type": "stream",
     "text": [
      "dimension of entire training dataset: (482, 2676)\n",
      "died\n",
      "0    423\n",
      "1     59\n",
      "Name: count, dtype: int64\n"
     ]
    }
   ],
   "source": [
    "voom_t = voom.transpose()\n",
    "voom_t['firalisID'] = voom_t.index.values\n",
    "clinic_seq = clinic.merge(voom_t, on = 'firalisID')\n",
    "print(f\"dimension of entire training dataset: {clinic_seq.shape}\")\n",
    "print(clinic_seq[outcome].value_counts())"
   ]
  }
 ],
 "metadata": {
  "kernelspec": {
   "display_name": "Python 3 (ipykernel)",
   "language": "python",
   "name": "python3"
  },
  "language_info": {
   "codemirror_mode": {
    "name": "ipython",
    "version": 3
   },
   "file_extension": ".py",
   "mimetype": "text/x-python",
   "name": "python",
   "nbconvert_exporter": "python",
   "pygments_lexer": "ipython3",
   "version": "3.11.2"
  }
 },
 "nbformat": 4,
 "nbformat_minor": 5
}
