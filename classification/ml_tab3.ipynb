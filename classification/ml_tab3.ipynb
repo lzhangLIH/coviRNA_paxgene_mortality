{
 "cells": [
  {
   "cell_type": "code",
   "execution_count": 2,
   "id": "8eec4a48-2c67-4c76-9ab3-209b4f6b8c51",
   "metadata": {
    "tags": []
   },
   "outputs": [],
   "source": [
    "import pandas as pd\n",
    "import numpy as np\n",
    "import os\n",
    "\n",
    "from collections import Counter\n",
    "import copy\n",
    "\n",
    "from sklearn.utils import resample\n",
    "from sklearn.model_selection import StratifiedKFold, RandomizedSearchCV, GridSearchCV, RepeatedStratifiedKFold\n",
    "from sklearn.preprocessing import StandardScaler, PowerTransformer\n",
    "from sklearn import metrics\n",
    "\n",
    "import warnings\n",
    "warnings.filterwarnings(\"ignore\",category=UserWarning, append=True)\n",
    "\n",
    "import matplotlib.pyplot as plt\n",
    "\n",
    "from sklearn.pipeline import make_pipeline\n",
    "from imblearn.pipeline import Pipeline"
   ]
  },
  {
   "cell_type": "markdown",
   "id": "391db20d-9623-4fc2-9b27-b90b6ad6d28f",
   "metadata": {},
   "source": [
    "# input data"
   ]
  },
  {
   "cell_type": "markdown",
   "id": "1010102d-5275-40b4-9f96-01e4104d7f98",
   "metadata": {
    "tags": []
   },
   "source": [
    "## clinical data"
   ]
  },
  {
   "cell_type": "code",
   "execution_count": 2,
   "id": "91134852-4695-4c00-8aaa-9c1ae31ca34a",
   "metadata": {},
   "outputs": [
    {
     "name": "stdout",
     "output_type": "stream",
     "text": [
      "dimension of clinical data: (804, 6)\n",
      "died\n",
      "0    742\n",
      "1     62\n",
      "Name: count, dtype: int64\n"
     ]
    }
   ],
   "source": [
    "outcome = 'died'\n",
    "path_in = '/data/clinic_europ_804_sim.csv'\n",
    "clinic = pd.read_csv(path_in)\n",
    "print(f\"dimension of clinical data: {clinic.shape}\")\n",
    "print(clinic[outcome].value_counts())"
   ]
  },
  {
   "cell_type": "markdown",
   "id": "9c16f871-4e48-410a-b709-2762995d97ca",
   "metadata": {
    "tags": []
   },
   "source": [
    "## seq data"
   ]
  },
  {
   "cell_type": "code",
   "execution_count": 3,
   "id": "e86b2df8-48f3-44f9-bcbf-689bfacafdbc",
   "metadata": {
    "tags": []
   },
   "outputs": [
    {
     "name": "stdout",
     "output_type": "stream",
     "text": [
      "dimension of voom transformed dataset: (2906, 805)\n",
      "total lncRNAs: 2906\n"
     ]
    }
   ],
   "source": [
    "# total\n",
    "path_in = '/data/voom_sim_disc.csv'\n",
    "voom = pd.read_csv(path_in)\n",
    "print(f\"dimension of voom transformed dataset: {voom.shape}\")\n",
    "lnc_all = voom['lnc'].values\n",
    "print(f\"total lncRNAs: {lnc_all.shape[0]}\")\n",
    "voom.index = voom['lnc'].values\n",
    "voom = voom.drop(columns='lnc')\n"
   ]
  },
  {
   "cell_type": "markdown",
   "id": "79be7869-ab1c-4018-8267-e52d2ab7a8f9",
   "metadata": {},
   "source": [
    "## merge whole dataset"
   ]
  },
  {
   "cell_type": "code",
   "execution_count": 4,
   "id": "82a8f1ec-78b3-4e2d-b7c8-411f232111d4",
   "metadata": {
    "tags": []
   },
   "outputs": [
    {
     "name": "stdout",
     "output_type": "stream",
     "text": [
      "dimension of entire training dataset: (804, 2912)\n",
      "died\n",
      "0    742\n",
      "1     62\n",
      "Name: count, dtype: int64\n"
     ]
    }
   ],
   "source": [
    "voom_t = voom.transpose()\n",
    "voom_t['ID'] = voom_t.index.values\n",
    "clinic_seq = clinic.merge(voom_t, on = 'ID')\n",
    "print(f\"dimension of entire training dataset: {clinic_seq.shape}\")\n",
    "print(clinic_seq[outcome].value_counts())"
   ]
  },
  {
   "cell_type": "code",
   "execution_count": 5,
   "id": "1572e8b1-f811-4c26-9de6-e349fc600c3c",
   "metadata": {
    "tags": []
   },
   "outputs": [
    {
     "name": "stdout",
     "output_type": "stream",
     "text": [
      "sample size group 1: (62,)\n",
      "sample size group 0: (742,)\n"
     ]
    }
   ],
   "source": [
    "dat_use = clinic_seq.copy()\n",
    "dat_use.index = dat_use['ID'].values\n",
    "\n",
    "outcome = 'died'\n",
    "samples_1 = dat_use.loc[dat_use[outcome] == 1, 'ID'].values\n",
    "print(f'sample size group 1: {samples_1.shape}')\n",
    "\n",
    "samples_0 = dat_use.loc[dat_use[outcome] == 0, 'ID'].values\n",
    "print(f'sample size group 0: {samples_0.shape}')"
   ]
  },
  {
   "cell_type": "markdown",
   "id": "8f851039-f443-4f80-9783-304e2054c97b",
   "metadata": {},
   "source": [
    "# classification"
   ]
  },
  {
   "cell_type": "markdown",
   "id": "5f8795a6-0fe9-45d9-a2de-d3a10b76ef78",
   "metadata": {},
   "source": [
    "## selected varaibles"
   ]
  },
  {
   "cell_type": "code",
   "execution_count": 7,
   "id": "c5feebdd-69ed-4df0-b38b-f59a749713fb",
   "metadata": {
    "tags": []
   },
   "outputs": [
    {
     "name": "stdout",
     "output_type": "stream",
     "text": [
      "['age' 'SEQ0235']\n"
     ]
    }
   ],
   "source": [
    "df_sel = pd.read_excel('/results/features_sel_numbers_df000001_disc_died_08_100_.xlsx')\n",
    "df_sel\n",
    "var_sel = df_sel.loc[df_sel['n'] > 70,'feature'].values\n",
    "print(var_sel)"
   ]
  },
  {
   "cell_type": "markdown",
   "id": "6194536f-2691-4c4c-9516-d3083f729355",
   "metadata": {
    "tags": []
   },
   "source": [
    "## split index"
   ]
  },
  {
   "cell_type": "code",
   "execution_count": 10,
   "id": "1b58efa6-5d3b-4dbf-9240-127d8c5d5b6f",
   "metadata": {
    "collapsed": true,
    "jupyter": {
     "outputs_hidden": true
    },
    "tags": []
   },
   "outputs": [
    {
     "name": "stdout",
     "output_type": "stream",
     "text": [
      "(804, 101)\n"
     ]
    },
    {
     "data": {
      "text/html": [
       "<div>\n",
       "<style scoped>\n",
       "    .dataframe tbody tr th:only-of-type {\n",
       "        vertical-align: middle;\n",
       "    }\n",
       "\n",
       "    .dataframe tbody tr th {\n",
       "        vertical-align: top;\n",
       "    }\n",
       "\n",
       "    .dataframe thead th {\n",
       "        text-align: right;\n",
       "    }\n",
       "</style>\n",
       "<table border=\"1\" class=\"dataframe\">\n",
       "  <thead>\n",
       "    <tr style=\"text-align: right;\">\n",
       "      <th></th>\n",
       "      <th>train_1</th>\n",
       "      <th>train_2</th>\n",
       "      <th>train_3</th>\n",
       "      <th>train_4</th>\n",
       "      <th>train_5</th>\n",
       "      <th>train_6</th>\n",
       "      <th>train_7</th>\n",
       "      <th>train_8</th>\n",
       "      <th>train_9</th>\n",
       "      <th>train_10</th>\n",
       "      <th>...</th>\n",
       "      <th>train_92</th>\n",
       "      <th>train_93</th>\n",
       "      <th>train_94</th>\n",
       "      <th>train_95</th>\n",
       "      <th>train_96</th>\n",
       "      <th>train_97</th>\n",
       "      <th>train_98</th>\n",
       "      <th>train_99</th>\n",
       "      <th>train_100</th>\n",
       "      <th>ID</th>\n",
       "    </tr>\n",
       "  </thead>\n",
       "  <tbody>\n",
       "    <tr>\n",
       "      <th>0</th>\n",
       "      <td>0</td>\n",
       "      <td>2</td>\n",
       "      <td>2</td>\n",
       "      <td>2</td>\n",
       "      <td>2</td>\n",
       "      <td>2</td>\n",
       "      <td>2</td>\n",
       "      <td>2</td>\n",
       "      <td>2</td>\n",
       "      <td>2</td>\n",
       "      <td>...</td>\n",
       "      <td>2</td>\n",
       "      <td>2</td>\n",
       "      <td>2</td>\n",
       "      <td>2</td>\n",
       "      <td>2</td>\n",
       "      <td>2</td>\n",
       "      <td>2</td>\n",
       "      <td>2</td>\n",
       "      <td>2</td>\n",
       "      <td>discovery_001</td>\n",
       "    </tr>\n",
       "    <tr>\n",
       "      <th>1</th>\n",
       "      <td>2</td>\n",
       "      <td>2</td>\n",
       "      <td>2</td>\n",
       "      <td>2</td>\n",
       "      <td>2</td>\n",
       "      <td>2</td>\n",
       "      <td>2</td>\n",
       "      <td>2</td>\n",
       "      <td>2</td>\n",
       "      <td>2</td>\n",
       "      <td>...</td>\n",
       "      <td>2</td>\n",
       "      <td>2</td>\n",
       "      <td>2</td>\n",
       "      <td>2</td>\n",
       "      <td>2</td>\n",
       "      <td>2</td>\n",
       "      <td>0</td>\n",
       "      <td>2</td>\n",
       "      <td>2</td>\n",
       "      <td>discovery_002</td>\n",
       "    </tr>\n",
       "    <tr>\n",
       "      <th>2</th>\n",
       "      <td>2</td>\n",
       "      <td>2</td>\n",
       "      <td>2</td>\n",
       "      <td>2</td>\n",
       "      <td>1</td>\n",
       "      <td>2</td>\n",
       "      <td>2</td>\n",
       "      <td>2</td>\n",
       "      <td>2</td>\n",
       "      <td>2</td>\n",
       "      <td>...</td>\n",
       "      <td>2</td>\n",
       "      <td>2</td>\n",
       "      <td>2</td>\n",
       "      <td>2</td>\n",
       "      <td>2</td>\n",
       "      <td>2</td>\n",
       "      <td>2</td>\n",
       "      <td>2</td>\n",
       "      <td>2</td>\n",
       "      <td>discovery_003</td>\n",
       "    </tr>\n",
       "    <tr>\n",
       "      <th>3</th>\n",
       "      <td>2</td>\n",
       "      <td>2</td>\n",
       "      <td>1</td>\n",
       "      <td>2</td>\n",
       "      <td>1</td>\n",
       "      <td>2</td>\n",
       "      <td>2</td>\n",
       "      <td>2</td>\n",
       "      <td>2</td>\n",
       "      <td>1</td>\n",
       "      <td>...</td>\n",
       "      <td>2</td>\n",
       "      <td>2</td>\n",
       "      <td>2</td>\n",
       "      <td>2</td>\n",
       "      <td>2</td>\n",
       "      <td>0</td>\n",
       "      <td>2</td>\n",
       "      <td>2</td>\n",
       "      <td>2</td>\n",
       "      <td>discovery_004</td>\n",
       "    </tr>\n",
       "    <tr>\n",
       "      <th>4</th>\n",
       "      <td>2</td>\n",
       "      <td>2</td>\n",
       "      <td>2</td>\n",
       "      <td>2</td>\n",
       "      <td>2</td>\n",
       "      <td>2</td>\n",
       "      <td>2</td>\n",
       "      <td>2</td>\n",
       "      <td>2</td>\n",
       "      <td>2</td>\n",
       "      <td>...</td>\n",
       "      <td>2</td>\n",
       "      <td>2</td>\n",
       "      <td>2</td>\n",
       "      <td>2</td>\n",
       "      <td>2</td>\n",
       "      <td>2</td>\n",
       "      <td>2</td>\n",
       "      <td>2</td>\n",
       "      <td>2</td>\n",
       "      <td>discovery_005</td>\n",
       "    </tr>\n",
       "    <tr>\n",
       "      <th>...</th>\n",
       "      <td>...</td>\n",
       "      <td>...</td>\n",
       "      <td>...</td>\n",
       "      <td>...</td>\n",
       "      <td>...</td>\n",
       "      <td>...</td>\n",
       "      <td>...</td>\n",
       "      <td>...</td>\n",
       "      <td>...</td>\n",
       "      <td>...</td>\n",
       "      <td>...</td>\n",
       "      <td>...</td>\n",
       "      <td>...</td>\n",
       "      <td>...</td>\n",
       "      <td>...</td>\n",
       "      <td>...</td>\n",
       "      <td>...</td>\n",
       "      <td>...</td>\n",
       "      <td>...</td>\n",
       "      <td>...</td>\n",
       "      <td>...</td>\n",
       "    </tr>\n",
       "    <tr>\n",
       "      <th>799</th>\n",
       "      <td>2</td>\n",
       "      <td>2</td>\n",
       "      <td>2</td>\n",
       "      <td>2</td>\n",
       "      <td>2</td>\n",
       "      <td>2</td>\n",
       "      <td>0</td>\n",
       "      <td>0</td>\n",
       "      <td>2</td>\n",
       "      <td>2</td>\n",
       "      <td>...</td>\n",
       "      <td>2</td>\n",
       "      <td>2</td>\n",
       "      <td>1</td>\n",
       "      <td>2</td>\n",
       "      <td>2</td>\n",
       "      <td>2</td>\n",
       "      <td>2</td>\n",
       "      <td>2</td>\n",
       "      <td>2</td>\n",
       "      <td>discovery_800</td>\n",
       "    </tr>\n",
       "    <tr>\n",
       "      <th>800</th>\n",
       "      <td>2</td>\n",
       "      <td>2</td>\n",
       "      <td>2</td>\n",
       "      <td>2</td>\n",
       "      <td>2</td>\n",
       "      <td>1</td>\n",
       "      <td>2</td>\n",
       "      <td>2</td>\n",
       "      <td>2</td>\n",
       "      <td>2</td>\n",
       "      <td>...</td>\n",
       "      <td>2</td>\n",
       "      <td>2</td>\n",
       "      <td>2</td>\n",
       "      <td>2</td>\n",
       "      <td>1</td>\n",
       "      <td>2</td>\n",
       "      <td>2</td>\n",
       "      <td>2</td>\n",
       "      <td>2</td>\n",
       "      <td>discovery_801</td>\n",
       "    </tr>\n",
       "    <tr>\n",
       "      <th>801</th>\n",
       "      <td>2</td>\n",
       "      <td>2</td>\n",
       "      <td>2</td>\n",
       "      <td>2</td>\n",
       "      <td>2</td>\n",
       "      <td>2</td>\n",
       "      <td>2</td>\n",
       "      <td>2</td>\n",
       "      <td>2</td>\n",
       "      <td>1</td>\n",
       "      <td>...</td>\n",
       "      <td>2</td>\n",
       "      <td>2</td>\n",
       "      <td>2</td>\n",
       "      <td>2</td>\n",
       "      <td>2</td>\n",
       "      <td>2</td>\n",
       "      <td>2</td>\n",
       "      <td>2</td>\n",
       "      <td>2</td>\n",
       "      <td>discovery_802</td>\n",
       "    </tr>\n",
       "    <tr>\n",
       "      <th>802</th>\n",
       "      <td>2</td>\n",
       "      <td>2</td>\n",
       "      <td>0</td>\n",
       "      <td>2</td>\n",
       "      <td>2</td>\n",
       "      <td>2</td>\n",
       "      <td>2</td>\n",
       "      <td>2</td>\n",
       "      <td>2</td>\n",
       "      <td>2</td>\n",
       "      <td>...</td>\n",
       "      <td>2</td>\n",
       "      <td>2</td>\n",
       "      <td>2</td>\n",
       "      <td>2</td>\n",
       "      <td>2</td>\n",
       "      <td>2</td>\n",
       "      <td>2</td>\n",
       "      <td>2</td>\n",
       "      <td>2</td>\n",
       "      <td>discovery_803</td>\n",
       "    </tr>\n",
       "    <tr>\n",
       "      <th>803</th>\n",
       "      <td>1</td>\n",
       "      <td>1</td>\n",
       "      <td>1</td>\n",
       "      <td>1</td>\n",
       "      <td>1</td>\n",
       "      <td>1</td>\n",
       "      <td>1</td>\n",
       "      <td>1</td>\n",
       "      <td>1</td>\n",
       "      <td>1</td>\n",
       "      <td>...</td>\n",
       "      <td>0</td>\n",
       "      <td>1</td>\n",
       "      <td>1</td>\n",
       "      <td>1</td>\n",
       "      <td>1</td>\n",
       "      <td>1</td>\n",
       "      <td>1</td>\n",
       "      <td>1</td>\n",
       "      <td>0</td>\n",
       "      <td>discovery_804</td>\n",
       "    </tr>\n",
       "  </tbody>\n",
       "</table>\n",
       "<p>804 rows × 101 columns</p>\n",
       "</div>"
      ],
      "text/plain": [
       "     train_1  train_2  train_3  train_4  train_5  train_6  train_7  train_8  \\\n",
       "0          0        2        2        2        2        2        2        2   \n",
       "1          2        2        2        2        2        2        2        2   \n",
       "2          2        2        2        2        1        2        2        2   \n",
       "3          2        2        1        2        1        2        2        2   \n",
       "4          2        2        2        2        2        2        2        2   \n",
       "..       ...      ...      ...      ...      ...      ...      ...      ...   \n",
       "799        2        2        2        2        2        2        0        0   \n",
       "800        2        2        2        2        2        1        2        2   \n",
       "801        2        2        2        2        2        2        2        2   \n",
       "802        2        2        0        2        2        2        2        2   \n",
       "803        1        1        1        1        1        1        1        1   \n",
       "\n",
       "     train_9  train_10  ...  train_92  train_93  train_94  train_95  train_96  \\\n",
       "0          2         2  ...         2         2         2         2         2   \n",
       "1          2         2  ...         2         2         2         2         2   \n",
       "2          2         2  ...         2         2         2         2         2   \n",
       "3          2         1  ...         2         2         2         2         2   \n",
       "4          2         2  ...         2         2         2         2         2   \n",
       "..       ...       ...  ...       ...       ...       ...       ...       ...   \n",
       "799        2         2  ...         2         2         1         2         2   \n",
       "800        2         2  ...         2         2         2         2         1   \n",
       "801        2         1  ...         2         2         2         2         2   \n",
       "802        2         2  ...         2         2         2         2         2   \n",
       "803        1         1  ...         0         1         1         1         1   \n",
       "\n",
       "     train_97  train_98  train_99  train_100             ID  \n",
       "0           2         2         2          2  discovery_001  \n",
       "1           2         0         2          2  discovery_002  \n",
       "2           2         2         2          2  discovery_003  \n",
       "3           0         2         2          2  discovery_004  \n",
       "4           2         2         2          2  discovery_005  \n",
       "..        ...       ...       ...        ...            ...  \n",
       "799         2         2         2          2  discovery_800  \n",
       "800         2         2         2          2  discovery_801  \n",
       "801         2         2         2          2  discovery_802  \n",
       "802         2         2         2          2  discovery_803  \n",
       "803         1         1         1          0  discovery_804  \n",
       "\n",
       "[804 rows x 101 columns]"
      ]
     },
     "execution_count": 10,
     "metadata": {},
     "output_type": "execute_result"
    }
   ],
   "source": [
    "train_test = pd.read_csv('/data/idx_resample.csv')\n",
    "print(train_test.shape)\n",
    "train_test"
   ]
  },
  {
   "cell_type": "markdown",
   "id": "1e85a320-2ff4-4823-9dea-09748ccacc93",
   "metadata": {},
   "source": [
    "## list of classifier"
   ]
  },
  {
   "cell_type": "code",
   "execution_count": null,
   "id": "cdd4291e-75e7-42d8-bc7c-efd31cb036db",
   "metadata": {},
   "outputs": [],
   "source": [
    "%run tune_grid.ipynb\n",
    "print(f'number of classifiers: {len(lst_clf)}')\n",
    "print(lst_clf)"
   ]
  },
  {
   "cell_type": "markdown",
   "id": "0b55fdf3-0f13-4a8c-857b-1010a138929f",
   "metadata": {},
   "source": [
    "## balanced dataset"
   ]
  },
  {
   "cell_type": "code",
   "execution_count": null,
   "id": "3d123894-09f3-4cfa-9710-4d31435896a0",
   "metadata": {},
   "outputs": [],
   "source": [
    "%run cv_tune_func.ipynb"
   ]
  },
  {
   "cell_type": "code",
   "execution_count": null,
   "id": "0d928209-f13d-4fec-a659-1bc0393d9f09",
   "metadata": {},
   "outputs": [],
   "source": [
    "n_jobs=12\n",
    "random_state=123\n",
    "kf_inner = RepeatedStratifiedKFold(n_splits=5, n_repeats=2, random_state=random_state)\n",
    "df_mean = pd.DataFrame()\n",
    "df_sd = pd.DataFrame()\n",
    "for key, clf in d.items(lst_clf):\n",
    "    res = cv_tune_bl_idx(var_=var_sel, key=key, clf=clf, split_idx, df_features, scoring='roc_auc', output_prefix = 'cv_tune_disc_bl', n_jobs=n_jobs, random_state=random_state, folder_out='/results/', kf_inner=kf_inner)\n",
    "\n",
    "    mean_ = res.mean(axis=0)\n",
    "    mean_['classifier'] = key\n",
    "    df_mean = pd.concat([df_mean, pd.DataFrame.from_dict(mean_).transpose()], ignore_index=True, axis=0)\n",
    "    print(df_mean)\n",
    "\n",
    "    sd_ = res.std(axis=0)\n",
    "    sd_['classifier'] = key\n",
    "    df_sd = pd.concat([df_sd,pd.DataFrame.from_dict(sd_).transpose()], ignore_index=True, axis=0)\n",
    "    print(df_sd)"
   ]
  },
  {
   "cell_type": "markdown",
   "id": "fbcb3eb0-cc1e-4631-a72f-3ca7315682f2",
   "metadata": {},
   "source": [
    "## imbalanced dataset"
   ]
  },
  {
   "cell_type": "code",
   "execution_count": null,
   "id": "1216318d-85a2-420d-8806-3075c08b53d9",
   "metadata": {},
   "outputs": [],
   "source": [
    "n_jobs=12\n",
    "random_state=123\n",
    "kf = RepeatedStratifiedKFold(n_splits=5, n_repeats=20, random_state=random_state)\n",
    "kf_inner = RepeatedStratifiedKFold(n_splits=5, n_repeats=2, random_state=random_state)\n",
    "df_mean = pd.DataFrame()\n",
    "df_sd = pd.DataFrame()\n",
    "for key, clf in d.items(lst_clf):\n",
    "    res = cv_tune_imbl(var_=var_sel, key=key, clf=clf, split_idx, df_features, scoring='roc_auc', output_prefix = 'cv_tune_disc_imbl', n_jobs=n_jobs, random_state=random_state, folder_out='/results/', kf_inner=kf_inner, kf=kf)\n",
    "\n",
    "    mean_ = res.mean(axis=0)\n",
    "    mean_['classifier'] = key\n",
    "    df_mean = pd.concat([df_mean, pd.DataFrame.from_dict(mean_).transpose()], ignore_index=True, axis=0)\n",
    "    print(df_mean)\n",
    "\n",
    "    sd_ = res.std(axis=0)\n",
    "    sd_['classifier'] = key\n",
    "    df_sd = pd.concat([df_sd,pd.DataFrame.from_dict(sd_).transpose()], ignore_index=True, axis=0)\n",
    "    print(df_sd)"
   ]
  }
 ],
 "metadata": {
  "kernelspec": {
   "display_name": "Python 3 (ipykernel)",
   "language": "python",
   "name": "python3"
  },
  "language_info": {
   "codemirror_mode": {
    "name": "ipython",
    "version": 3
   },
   "file_extension": ".py",
   "mimetype": "text/x-python",
   "name": "python",
   "nbconvert_exporter": "python",
   "pygments_lexer": "ipython3",
   "version": "3.11.2"
  }
 },
 "nbformat": 4,
 "nbformat_minor": 5
}
